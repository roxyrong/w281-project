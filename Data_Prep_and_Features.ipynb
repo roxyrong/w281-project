{
 "cells": [
  {
   "cell_type": "code",
   "execution_count": 1,
   "id": "9e0fd8dd",
   "metadata": {},
   "outputs": [],
   "source": [
    "import os\n",
    "from glob import glob\n",
    "\n",
    "from sklearn.model_selection import train_test_split\n",
    "from sklearn.linear_model import LogisticRegression\n",
    "from sklearn.ensemble import RandomForestClassifier\n",
    "from sklearn import metrics\n",
    "\n",
    "import pandas as pd\n",
    "import numpy as np\n",
    "from numpy import fft\n",
    "\n",
    "from PIL import Image\n",
    "import matplotlib.pyplot as plt\n",
    "import seaborn as sns"
   ]
  },
  {
   "cell_type": "markdown",
   "id": "43f054d7",
   "metadata": {},
   "source": [
    "### Load in Data"
   ]
  },
  {
   "cell_type": "code",
   "execution_count": 2,
   "id": "df67131d",
   "metadata": {},
   "outputs": [],
   "source": [
    "# Loads a dataset from a subdirectory.\n",
    "def load_dataset(datapath):\n",
    "    df = pd.DataFrame( )\n",
    "    \n",
    "    for folder in os.listdir(datapath):\n",
    "        files = glob(pathname= str(datapath + folder + '/*.jpg'))\n",
    "        df = pd.concat( [ df, pd.DataFrame( { 'filename': files , \n",
    "                                              'category': folder } ) ] )\n",
    "    \n",
    "    df = df.sort_values(by=\"category\", ignore_index=True)    \n",
    "       \n",
    "    return df"
   ]
  },
  {
   "cell_type": "code",
   "execution_count": 3,
   "id": "e5290822",
   "metadata": {},
   "outputs": [],
   "source": [
    "train_path = 'seg_train/seg_train/'\n",
    "\n",
    "training_set = load_dataset(train_path)"
   ]
  },
  {
   "cell_type": "markdown",
   "id": "cb5b271c",
   "metadata": {},
   "source": [
    "### Split Training Data into Train/Val"
   ]
  },
  {
   "cell_type": "code",
   "execution_count": 4,
   "id": "312b125c",
   "metadata": {},
   "outputs": [
    {
     "name": "stdout",
     "output_type": "stream",
     "text": [
      "old (14034, 2)\n",
      "new (13986, 3)\n"
     ]
    }
   ],
   "source": [
    "#Remove images that are not (150,150)\n",
    "resolution_col = []\n",
    "for idx, row in training_set.iterrows():\n",
    "    img = plt.imread(row['filename'])\n",
    "    if img.shape == (150, 150, 3):\n",
    "        resolution_col.append('good')\n",
    "    else:\n",
    "        resolution_col.append('drop')\n",
    "        \n",
    "new_training_set = training_set.copy()\n",
    "new_training_set['resolution'] = resolution_col\n",
    "new_training_set.drop(new_training_set[new_training_set.resolution == \"drop\"].index, inplace=True)\n",
    "# new_training_set = training_set.drop('resolution' == 'drop')\n",
    "print(\"old\", training_set.shape)\n",
    "print(\"new\", new_training_set.shape)"
   ]
  },
  {
   "cell_type": "code",
   "execution_count": 14,
   "id": "ad5e8d41",
   "metadata": {},
   "outputs": [
    {
     "name": "stdout",
     "output_type": "stream",
     "text": [
      "(13986, 2)\n"
     ]
    }
   ],
   "source": [
    "new_training_set = new_training_set.drop(\"resolution\", axis = 1)\n",
    "print(new_training_set.shape)"
   ]
  },
  {
   "cell_type": "code",
   "execution_count": 5,
   "id": "90f5352f",
   "metadata": {},
   "outputs": [],
   "source": [
    "def train_val_split(training_set):\n",
    "    '''Split a training set further into 80/20 train/validation subdatasets'''\n",
    "    train, val = train_test_split(training_set, test_size=0.2, random_state = 314)\n",
    "    return train, val"
   ]
  },
  {
   "cell_type": "code",
   "execution_count": 15,
   "id": "1506a3a7",
   "metadata": {},
   "outputs": [],
   "source": [
    "train, val = train_val_split(new_training_set) #split the training data into a training subset and validation set"
   ]
  },
  {
   "cell_type": "code",
   "execution_count": 16,
   "id": "33eb9857",
   "metadata": {},
   "outputs": [],
   "source": [
    "def sanity_check_split(train, val):\n",
    "    \"\"\"Ensure multiclasses are still equally distributed after split\"\"\"\n",
    "    \n",
    "    print(\"New training df size: \", train.shape)\n",
    "    print(\"New validation df size: \", val.shape)\n",
    "    print(\"\\n\")\n",
    "    train_class = train.groupby(['category']).count()/train.shape[0]\n",
    "    val_class = val.groupby(['category']).count()/val.shape[0]\n",
    "    print(\"New training class distribution: \", \"\\n\", train_class)\n",
    "    print(\"New validation class distribution: \", \"\\n\", val_class)\n",
    "    pass"
   ]
  },
  {
   "cell_type": "code",
   "execution_count": 17,
   "id": "17641e48",
   "metadata": {},
   "outputs": [
    {
     "name": "stdout",
     "output_type": "stream",
     "text": [
      "New training df size:  (11188, 2)\n",
      "New validation df size:  (2798, 2)\n",
      "\n",
      "\n",
      "New training class distribution:  \n",
      "            filename\n",
      "category           \n",
      "buildings  0.155434\n",
      "forest     0.163836\n",
      "glacier    0.168305\n",
      "mountain   0.178674\n",
      "sea        0.161334\n",
      "street     0.172417\n",
      "New validation class distribution:  \n",
      "            filename\n",
      "category           \n",
      "buildings  0.161187\n",
      "forest     0.153681\n",
      "glacier    0.180129\n",
      "mountain   0.177269\n",
      "sea        0.166190\n",
      "street     0.161544\n"
     ]
    }
   ],
   "source": [
    "sanity_check_split(train, val)"
   ]
  },
  {
   "cell_type": "markdown",
   "id": "7bd54d03",
   "metadata": {},
   "source": [
    "### Fourier Transform Filter"
   ]
  },
  {
   "cell_type": "code",
   "execution_count": null,
   "id": "bf7f9d56",
   "metadata": {},
   "outputs": [],
   "source": [
    "def fourier_transform_3_examples(input_images):\n",
    "    \"\"\"Smaller function to show fourier transform and output example images - no windowing\"\"\"\n",
    "    fig, ax = plt.subplots(3, 2, figsize=(15, 15))\n",
    "    ax_row = 0\n",
    "    ax_col = 0\n",
    "    \n",
    "    for idx, row in input_images.iterrows():\n",
    "        img = plt.imread(row['filename'])\n",
    "        img_gray = img.mean(axis=2) #make the image grayscale by averaging all 3 channels\n",
    "        fourier = fft.fftshift(fft.fft2(img_gray))\n",
    "        Fmag = np.abs(fourier)\n",
    "        \n",
    "        #plot the original and fourier images side-by-side\n",
    "        ax[ax_row][ax_col].imshow(img)\n",
    "        ax[ax_row][ax_col].set_title(\"original image of \" + str(row['category']))\n",
    "        ax[ax_row][ax_col].axis(\"off\")\n",
    "        ax_col += 1\n",
    "        ax[ax_row][ax_col].imshow(np.log(Fmag), cmap='gray')\n",
    "        ax[ax_row][ax_col].set_title(\"fourier transform of \" + str(row['category']))\n",
    "        ax[ax_row][ax_col].axis(\"off\")\n",
    "        ax_row += 1\n",
    "        ax_col = 0\n",
    "    pass"
   ]
  },
  {
   "cell_type": "code",
   "execution_count": null,
   "id": "c4dfbc3e",
   "metadata": {},
   "outputs": [],
   "source": [
    "# fourier_transform_3_examples(train.sample(n=3)) #Random samples, uncomment to run\n",
    "fourier_transform_3_examples(train.iloc[:3,]) #First 3 samples in the training set"
   ]
  },
  {
   "cell_type": "code",
   "execution_count": null,
   "id": "35a2a7b4",
   "metadata": {},
   "outputs": [],
   "source": [
    "def fourier_transform_3_examples_V2(input_images):\n",
    "    \"\"\"Smaller function to show fourier transform and output example images - WITH windowing to remove artifacts\"\"\"\n",
    "    fig, ax = plt.subplots(3, 2, figsize=(15, 15))\n",
    "    ax_row = 0\n",
    "    ax_col = 0\n",
    "    \n",
    "    for idx, row in input_images.iterrows():\n",
    "        img = plt.imread(row['filename'])\n",
    "        ydim = img.shape[0]\n",
    "        xdim = img.shape[1]\n",
    "        img_gray = img.mean(axis=2) #make the image grayscale by averaging all 3 channels\n",
    "        win = np.outer(np.hanning(ydim), np.hanning(xdim))\n",
    "        win = win/np.mean(win)\n",
    "        fourier = fft.fftshift(fft.fft2(img_gray*win))\n",
    "        Fmag = np.abs(fourier)\n",
    "        \n",
    "        #plot the original and fourier images side-by-side\n",
    "        ax[ax_row][ax_col].imshow(img)\n",
    "        ax[ax_row][ax_col].set_title(\"original image of \" + str(row['category']))\n",
    "        ax[ax_row][ax_col].axis(\"off\")\n",
    "        ax_col += 1\n",
    "        ax[ax_row][ax_col].imshow(np.log(Fmag), cmap='gray')\n",
    "        ax[ax_row][ax_col].set_title(\"fourier transform of \" + str(row['category']))\n",
    "        ax[ax_row][ax_col].axis(\"off\")\n",
    "        ax_row += 1\n",
    "        ax_col = 0\n",
    "    pass"
   ]
  },
  {
   "cell_type": "code",
   "execution_count": null,
   "id": "b7a8b11b",
   "metadata": {},
   "outputs": [],
   "source": [
    "# fourier_transform_3_examples_V2(train.sample(n=3)) #Random samples, uncomment to run\n",
    "fourier_transform_3_examples_V2(train.iloc[:3,]) #First 3 samples in the training set"
   ]
  },
  {
   "cell_type": "code",
   "execution_count": 24,
   "id": "54a614fb",
   "metadata": {},
   "outputs": [],
   "source": [
    "def fourier_transform(input_images):\n",
    "    \"\"\"Final fourier transform function that inputs a labeled dataset and \n",
    "    outputs an array of fourier transform filters and a list of labels\"\"\"\n",
    "    featured_images = []\n",
    "    \n",
    "    for idx, row in input_images.iterrows():\n",
    "        img = plt.imread(row['filename'])\n",
    "        ydim = img.shape[0]\n",
    "        xdim = img.shape[1]\n",
    "        img_gray = img.mean(axis=2) #make the image grayscale by averaging all 3 channels\n",
    "        win = np.outer(np.hanning(ydim), np.hanning(xdim))\n",
    "        win = win/np.mean(win)\n",
    "        fourier = fft.fftshift(fft.fft2(img_gray*win))\n",
    "        Fmag = np.abs(fourier)\n",
    "        featured_images.append(np.log(Fmag).flatten())\n",
    "    \n",
    "    featured_images_array = np.asarray(featured_images, dtype=\"object\")\n",
    "    print(\"featured images\", featured_images_array.shape)\n",
    "    labels = input_images.iloc[:,1].values.astype(str)\n",
    "\n",
    "    return featured_images_array, labels"
   ]
  },
  {
   "cell_type": "markdown",
   "id": "e3475dc8",
   "metadata": {},
   "source": [
    "### Apply a Filter to Logistic Regression"
   ]
  },
  {
   "cell_type": "code",
   "execution_count": 27,
   "id": "c58e0f1c",
   "metadata": {},
   "outputs": [],
   "source": [
    "def logistic_regression(train, val, feature):\n",
    "    ''' Function to apply a feature to the validation set \n",
    "    and spit out error values (confusion matrix, precision, recall, F1 score, accuracy) '''\n",
    "    #apply feature to train and validation images\n",
    "    if feature == \"fourier\":\n",
    "        train_featured, train_label = fourier_transform(train)\n",
    "        val_featured, val_label = fourier_transform(val)\n",
    "    else:\n",
    "        pass # add different conditions for different features later\n",
    "    \n",
    "#     print(\"train images\",train_featured.shape)\n",
    "#     print(\"train labels\",train_label.shape)\n",
    "#     print(\"val images\",val_featured.shape)\n",
    "#     print(\"val labels\",val_label.shape)\n",
    "    \n",
    "#     print(\"train images\", train_featured)\n",
    "#     print(\"train labels\", train_label)\n",
    "#     print(\"val images\", val_featured)\n",
    "#     print(\"val labels\", val_label)\n",
    "    \n",
    "    #train and predict a multiclass logistic regression\n",
    "    logisticRegr = LogisticRegression(multi_class='multinomial',solver='newton-cg')\n",
    "    logisticRegr.fit(train_featured, train_label)\n",
    "    predictions = logisticRegr.predict(val_featured)\n",
    "    score = logisticRegr.score(val_featured, val_label)\n",
    "    con_matrix = metrics.confusion_matrix(val_label, predictions)\n",
    "\n",
    "    plt.figure(figsize=(9,9))\n",
    "    sns.heatmap(con_matrix, annot=True, fmt=\".3f\", linewidths=.5, square = True, cmap = 'Blues_r');\n",
    "    plt.ylabel('Actual label');\n",
    "    plt.xlabel('Predicted label');\n",
    "    all_sample_title = 'Accuracy Score: {0}'.format(score)\n",
    "    plt.title(all_sample_title, size = 15);\n",
    "    \n",
    "    pass"
   ]
  },
  {
   "cell_type": "code",
   "execution_count": 29,
   "id": "72efdff9",
   "metadata": {},
   "outputs": [
    {
     "name": "stdout",
     "output_type": "stream",
     "text": [
      "featured images (500, 22500)\n",
      "featured images (500, 22500)\n"
     ]
    },
    {
     "data": {
      "image/png": "[encoded data removed]",
      "text/plain": [
       "<Figure size 648x648 with 2 Axes>"
      ]
     },
     "metadata": {
      "needs_background": "light"
     },
     "output_type": "display_data"
    }
   ],
   "source": [
    "# logistic_regression(train, val, \"fourier\") #full dataset - uncomment to run\n",
    "logistic_regression(train.iloc[:500], val.iloc[:500], \"fourier\") #trying a small sample for sanity check"
   ]
  },
  {
   "cell_type": "markdown",
   "id": "a2d4b633",
   "metadata": {},
   "source": [
    "## Apply a Filter to Random Forest"
   ]
  },
  {
   "cell_type": "code",
   "execution_count": 30,
   "id": "877c8634",
   "metadata": {},
   "outputs": [],
   "source": [
    "def random_forest(train, val, feature):\n",
    "    ''' Function to apply a feature to the validation set \n",
    "    and spit out error values (confusion matrix, precision, recall, F1 score, accuracy) '''\n",
    "    #apply feature to train and validation images\n",
    "    if feature == \"fourier\":\n",
    "        train_featured, train_label = fourier_transform(train)\n",
    "        val_featured, val_label = fourier_transform(val)\n",
    "    else:\n",
    "        pass # add different conditions for different features later\n",
    "    \n",
    "#     print(\"train images\",train_featured.shape)\n",
    "#     print(\"train labels\",train_label.shape)\n",
    "#     print(\"val images\",val_featured.shape)\n",
    "#     print(\"val labels\",val_label.shape)\n",
    "    \n",
    "    #train and predict a multiclass logistic regression\n",
    "    clf = RandomForestClassifier(max_depth=2, random_state=0)\n",
    "    clf.fit(train_featured, train_label)\n",
    "    predictions = clf.predict(val_featured)\n",
    "    score = clf.score(val_featured, val_label)\n",
    "    con_matrix = metrics.confusion_matrix(val_label, predictions)\n",
    "\n",
    "    plt.figure(figsize=(9,9))\n",
    "    sns.heatmap(con_matrix, annot=True, fmt=\".3f\", linewidths=.5, square = True, cmap = 'Blues_r');\n",
    "    plt.ylabel('Actual label');\n",
    "    plt.xlabel('Predicted label');\n",
    "    all_sample_title = 'Accuracy Score: {0}'.format(score)\n",
    "    plt.title(all_sample_title, size = 15);\n",
    "    \n",
    "    pass"
   ]
  },
  {
   "cell_type": "code",
   "execution_count": 31,
   "id": "61cdeb96",
   "metadata": {},
   "outputs": [
    {
     "name": "stdout",
     "output_type": "stream",
     "text": [
      "featured images (500, 22500)\n",
      "featured images (500, 22500)\n"
     ]
    },
    {
     "data": {
      "image/png": "[encoded data removed]",
      "text/plain": [
       "<Figure size 648x648 with 2 Axes>"
      ]
     },
     "metadata": {
      "needs_background": "light"
     },
     "output_type": "display_data"
    }
   ],
   "source": [
    "# random_forest(train, val, \"fourier\") #full dataset - uncomment to run\n",
    "random_forest(train.iloc[:500], val.iloc[:500], \"fourier\") #trying a small sample for sanity check"
   ]
  },
  {
   "cell_type": "code",
   "execution_count": null,
   "id": "972053ab",
   "metadata": {},
   "outputs": [],
   "source": []
  }
 ],
 "metadata": {
  "kernelspec": {
   "display_name": "Python 3 (ipykernel)",
   "language": "python",
   "name": "python3"
  },
  "language_info": {
   "codemirror_mode": {
    "name": "ipython",
    "version": 3
   },
   "file_extension": ".py",
   "mimetype": "text/x-python",
   "name": "python",
   "nbconvert_exporter": "python",
   "pygments_lexer": "ipython3",
   "version": "3.9.7"
  }
 },
 "nbformat": 4,
 "nbformat_minor": 5
}
