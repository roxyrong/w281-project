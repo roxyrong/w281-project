{
  "cells": [
    {
      "cell_type": "markdown",
      "metadata": {
        "id": "view-in-github",
        "colab_type": "text"
      },
      "source": [
        "<a href=\"https://colab.research.google.com/github/roxyrong/w281-project/blob/main/image_classification.ipynb\" target=\"_parent\"><img src=\"https://colab.research.google.com/assets/colab-badge.svg\" alt=\"Open In Colab\"/></a>"
      ]
    },
    {
      "cell_type": "code",
      "execution_count": 1,
      "metadata": {
        "colab": {
          "base_uri": "https://localhost:8080/"
        },
        "id": "Pmww0qJycIFk",
        "outputId": "c17ee343-de12-423a-dad1-d58419128e6a"
      },
      "outputs": [
        {
          "output_type": "stream",
          "name": "stdout",
          "text": [
            "Mounted at /content/drive\n"
          ]
        }
      ],
      "source": [
        "from google.colab import drive\n",
        "drive.mount('/content/drive')"
      ]
    },
    {
      "cell_type": "code",
      "execution_count": 79,
      "metadata": {
        "id": "J8ewb_JS-IB8",
        "colab": {
          "base_uri": "https://localhost:8080/"
        },
        "outputId": "76c8a4c0-767d-43ee-d19d-7c64ea10a347"
      },
      "outputs": [
        {
          "output_type": "stream",
          "name": "stdout",
          "text": [
            "time: 6.64 ms (started: 2023-12-05 16:39:46 +00:00)\n"
          ]
        }
      ],
      "source": [
        "import os\n",
        "import copy\n",
        "from glob import glob\n",
        "import numpy as np\n",
        "from numpy import fft\n",
        "import pandas as pd\n",
        "import sklearn\n",
        "from sklearn.model_selection import train_test_split\n",
        "from sklearn.decomposition import PCA\n",
        "from skimage.feature import hog, canny\n",
        "# from skimage.transform import hough_line\n",
        "import cv2\n",
        "\n",
        "from PIL import Image, ImageStat\n",
        "import matplotlib.pyplot as plt\n",
        "import seaborn as sns\n",
        "from keras.applications import VGG16\n",
        "from keras.applications.vgg16 import preprocess_input\n",
        "\n",
        "from sklearn.linear_model import LogisticRegression\n",
        "from sklearn.metrics import precision_score, recall_score, confusion_matrix"
      ]
    },
    {
      "cell_type": "code",
      "source": [
        "%%capture\n",
        "!pip install ipython-autotime\n",
        "%load_ext autotime"
      ],
      "metadata": {
        "colab": {
          "base_uri": "https://localhost:8080/"
        },
        "id": "otWK_RlFkmNM",
        "outputId": "db1849ef-dba1-41fd-85b7-1a273eba3e2e"
      },
      "execution_count": 3,
      "outputs": [
        {
          "output_type": "stream",
          "name": "stdout",
          "text": [
            "time: 472 µs (started: 2023-12-05 15:31:41 +00:00)\n"
          ]
        }
      ]
    },
    {
      "cell_type": "markdown",
      "source": [
        "# Data Loading & Cleaning"
      ],
      "metadata": {
        "id": "W18nRczIcTSZ"
      }
    },
    {
      "cell_type": "code",
      "execution_count": 53,
      "metadata": {
        "id": "WQrSGRfZ9FFS",
        "colab": {
          "base_uri": "https://localhost:8080/"
        },
        "outputId": "1bb4907d-a871-499e-c791-4b3a85073d03"
      },
      "outputs": [
        {
          "output_type": "stream",
          "name": "stdout",
          "text": [
            "time: 3.81 ms (started: 2023-12-05 16:15:53 +00:00)\n"
          ]
        }
      ],
      "source": [
        "def load_dataset(datapath):\n",
        "    df = pd.DataFrame()\n",
        "\n",
        "    for folder in os.listdir(datapath):\n",
        "      files = glob(pathname= str(datapath + folder + '/*.jpg'))\n",
        "      df = pd.concat([df, pd.DataFrame( { 'filename': files ,\n",
        "                                          'category': folder } ) ])\n",
        "\n",
        "    df = df.reset_index(drop=True)\n",
        "\n",
        "    df = df.sample(frac=0.02, seed=314)\n",
        "\n",
        "    df['image'] = None\n",
        "    df['gray_image'] = None\n",
        "    df['hsv_image'] = None\n",
        "    df['resolution'] = None\n",
        "    for idx, row in df.iterrows():\n",
        "      img = Image.open(row['filename'])\n",
        "      df.at[idx, 'image'] = np.array(img, dtype=np.float32)\n",
        "      df.at[idx, 'gray_image'] = np.array(img.convert('L'))\n",
        "      df.at[idx, 'hsv_image'] = np.array(img.convert('HSV'))\n",
        "      df.at[idx, 'resolution']  = img.size\n",
        "\n",
        "    return df"
      ]
    },
    {
      "cell_type": "code",
      "execution_count": 55,
      "metadata": {
        "id": "UVugYJZ61-MQ",
        "colab": {
          "base_uri": "https://localhost:8080/"
        },
        "outputId": "57d799e4-12c4-4cc8-cc57-d9200c0dab1c"
      },
      "outputs": [
        {
          "output_type": "stream",
          "name": "stdout",
          "text": [
            "time: 1min 45s (started: 2023-12-05 16:16:06 +00:00)\n"
          ]
        }
      ],
      "source": [
        "train_path = 'drive/MyDrive/github/w281-project-me/dataset/seg_train/seg_train/'\n",
        "test_path = 'drive/MyDrive/github/w281-project-me/dataset/seg_test/seg_test/'\n",
        "train_df = load_dataset(train_path)\n",
        "test_df = load_dataset(test_path)\n",
        "train_df = train_df[train_df['resolution'] == (150, 150)]\n",
        "test_df = test_df[test_df['resolution'] == (150, 150)]"
      ]
    },
    {
      "cell_type": "code",
      "source": [
        "print(train_df.groupby(\"category\")[\"image\"].count())\n",
        "print(test_df.groupby(\"category\")[\"image\"].count())"
      ],
      "metadata": {
        "colab": {
          "base_uri": "https://localhost:8080/"
        },
        "id": "Dv_5gkYIw_9P",
        "outputId": "e0ce6f17-cf46-4831-e594-8a81af702625"
      },
      "execution_count": 78,
      "outputs": [
        {
          "output_type": "stream",
          "name": "stdout",
          "text": [
            "category\n",
            "buildings    41\n",
            "forest       44\n",
            "glacier      49\n",
            "mountain     42\n",
            "sea          62\n",
            "street       41\n",
            "Name: image, dtype: int64\n",
            "category\n",
            "buildings     7\n",
            "forest        6\n",
            "glacier      17\n",
            "mountain     10\n",
            "sea          11\n",
            "street        9\n",
            "Name: image, dtype: int64\n",
            "time: 29.6 ms (started: 2023-12-05 16:38:44 +00:00)\n"
          ]
        }
      ]
    },
    {
      "cell_type": "markdown",
      "source": [
        "# Feature Engineering"
      ],
      "metadata": {
        "id": "sNVPk69scZOm"
      }
    },
    {
      "cell_type": "code",
      "execution_count": 57,
      "metadata": {
        "colab": {
          "base_uri": "https://localhost:8080/"
        },
        "id": "iMfB3c79LG-M",
        "outputId": "003fd140-aa51-4213-8121-2afbf1687f70"
      },
      "outputs": [
        {
          "output_type": "stream",
          "name": "stdout",
          "text": [
            "time: 792 µs (started: 2023-12-05 16:18:03 +00:00)\n"
          ]
        }
      ],
      "source": [
        "## HOG feature\n",
        "def add_hog_feature(row):\n",
        "  row['hog_feature'], row['hog_image'] = hog(row['image'],\n",
        "                                             orientations=8,\n",
        "                                             pixels_per_cell=(15, 15),\n",
        "                                             cells_per_block=(1, 1),\n",
        "                                             visualize=True,\n",
        "                                             channel_axis=-1)\n",
        "\n",
        "  return row"
      ]
    },
    {
      "cell_type": "code",
      "execution_count": 7,
      "metadata": {
        "id": "WF3sIPSMvT6S",
        "colab": {
          "base_uri": "https://localhost:8080/"
        },
        "outputId": "ccef47dc-cf82-411a-b396-a266957bf615"
      },
      "outputs": [
        {
          "output_type": "stream",
          "name": "stdout",
          "text": [
            "time: 612 µs (started: 2023-12-05 15:32:48 +00:00)\n"
          ]
        }
      ],
      "source": [
        "## Canny Edge Detection\n",
        "def add_canny_feature(row):\n",
        "  row['canny_feature'] = canny(row[\"gray_image\"], sigma=1)\n",
        "  return row"
      ]
    },
    {
      "cell_type": "code",
      "source": [
        "def add_fourier_feature(row):\n",
        "  image = row[\"gray_image\"]\n",
        "  ydim = image.shape[0]\n",
        "  xdim = image.shape[1]\n",
        "  win = np.outer(np.hanning(ydim), np.hanning(xdim))\n",
        "  win = win/np.mean(win)\n",
        "  fourier = fft.fftshift(fft.fft2(image * win))\n",
        "  Fmag = np.abs(fourier)\n",
        "  row[\"fourier_feature\"] = np.log(Fmag)\n",
        "  return row"
      ],
      "metadata": {
        "colab": {
          "base_uri": "https://localhost:8080/"
        },
        "id": "R21I8ll6latX",
        "outputId": "5b9e35ea-a398-4cee-f68f-dc1aaf622655"
      },
      "execution_count": 13,
      "outputs": [
        {
          "output_type": "stream",
          "name": "stdout",
          "text": [
            "time: 1.01 ms (started: 2023-12-05 15:47:46 +00:00)\n"
          ]
        }
      ]
    },
    {
      "cell_type": "code",
      "execution_count": 9,
      "metadata": {
        "id": "o-76NalrvX--",
        "colab": {
          "base_uri": "https://localhost:8080/"
        },
        "outputId": "5abeb9fd-8778-436b-c209-7a7e93a78d7c"
      },
      "outputs": [
        {
          "output_type": "stream",
          "name": "stdout",
          "text": [
            "time: 2.17 s (started: 2023-12-05 15:32:48 +00:00)\n"
          ]
        }
      ],
      "source": [
        "## HED Edge Detection\n",
        "## https://github.com/s9xie/hed\n",
        "\n",
        "def blob_batch_processing(original_images):\n",
        "  images = copy.deepcopy(original_images)\n",
        "  images = images.apply(lambda x: cv2.resize(x, (299, 299)))\n",
        "  images = np.array(images)\n",
        "  blob = cv2.dnn.blobFromImages(images, scalefactor=1, size=(299, 299),\n",
        "    mean=(105, 117, 123), #MODEL MEAN VALUE\n",
        "    swapRB=True, crop=False)\n",
        "  blob = list(blob)\n",
        "  blob = [b[np.newaxis, :]for b in blob]\n",
        "  return blob\n",
        "\n",
        "# The pre-trained model that OpenCV uses has been trained in Caffe framework\n",
        "proto_path = 'drive/MyDrive/github/w281-project-me/third_party/HED/deploy.prototxt'\n",
        "model_path = 'drive/MyDrive/github/w281-project-me/third_party/HED/hed_pretrained_bsds.caffemodel'\n",
        "net = cv2.dnn.readNetFromCaffe(proto_path, model_path)\n",
        "\n",
        "def add_HED_feature(row):\n",
        "  net.setInput(row['blob'])\n",
        "  hed = net.forward()\n",
        "  hed = cv2.resize(np.squeeze(hed), (150, 150))\n",
        "  hed = cv2.cvtColor(hed, cv2.COLOR_GRAY2BGR)\n",
        "  hed = (255 * hed).astype(\"uint8\")\n",
        "  row['hed'] = hed\n",
        "  return row\n"
      ]
    },
    {
      "cell_type": "code",
      "source": [
        "vgg_model = VGG16(include_top=False, input_shape=(150, 150, 3))\n",
        "\n",
        "def add_vgg_feature(row):\n",
        "  image = row['image']\n",
        "  image = np.expand_dims(image, axis=0)\n",
        "  image = preprocess_input(image)\n",
        "  row['vgg16_feature'] = vgg_model.predict(image, verbose=False).flatten()\n",
        "  return row"
      ],
      "metadata": {
        "colab": {
          "base_uri": "https://localhost:8080/"
        },
        "id": "UQg9I8N6YXgU",
        "outputId": "660bef29-c487-47c0-86af-b9967c4c3e2e"
      },
      "execution_count": 10,
      "outputs": [
        {
          "output_type": "stream",
          "name": "stdout",
          "text": [
            "Downloading data from https://storage.googleapis.com/tensorflow/keras-applications/vgg16/vgg16_weights_tf_dim_ordering_tf_kernels_notop.h5\n",
            "58889256/58889256 [==============================] - 0s 0us/step\n",
            "time: 1.71 s (started: 2023-12-05 15:32:50 +00:00)\n"
          ]
        }
      ]
    },
    {
      "cell_type": "code",
      "execution_count": 58,
      "metadata": {
        "id": "Fd3xEz8avKeB",
        "colab": {
          "base_uri": "https://localhost:8080/"
        },
        "outputId": "d9586730-3b5a-47ef-fa19-37419d4b39f9"
      },
      "outputs": [
        {
          "output_type": "stream",
          "name": "stdout",
          "text": [
            "time: 2min 38s (started: 2023-12-05 16:18:19 +00:00)\n"
          ]
        }
      ],
      "source": [
        "#HOG: shape = (800, 0)\n",
        "train_df = train_df.apply(add_hog_feature, axis=1)\n",
        "#Canny: shape = (150, 150)\n",
        "# train_df = train_df.apply(add_canny_feature, axis=1)\n",
        "#HED shape = (150, 150, 3)\n",
        "# train_df['blob'] = blob_batch_processing(train_df['image'])\n",
        "# train_df = train_df.apply(add_HED_feature, axis=1)\n",
        "#VGG16 (8192, 0)\n",
        "train_df = train_df.apply(add_vgg_feature, axis=1)\n",
        "#fourier: shape = (150, 150)\n",
        "# train_df = train_df.apply(add_fourier_feature, axis=1)"
      ]
    },
    {
      "cell_type": "code",
      "source": [
        "test_df = test_df.apply(add_hog_feature, axis=1)\n",
        "#Canny: shape = (150, 150)\n",
        "# test_df = test_df.apply(add_canny_feature, axis=1)\n",
        "#HED shape = (150, 150, 3)\n",
        "# test_df['blob'] = blob_batch_processing(train_df['image'])\n",
        "# test_df = test_df.apply(add_HED_feature, axis=1)\n",
        "#VGG16 (8192, 0)\n",
        "test_df = test_df.apply(add_vgg_feature, axis=1)\n",
        "#fourier: shape = (150, 150)\n",
        "# test_df = test_df.apply(add_fourier_feature, axis=1)"
      ],
      "metadata": {
        "colab": {
          "base_uri": "https://localhost:8080/"
        },
        "id": "L6XKd4ECx1Fw",
        "outputId": "369ab103-250e-4464-8642-22e5bb842513"
      },
      "execution_count": 61,
      "outputs": [
        {
          "output_type": "stream",
          "name": "stdout",
          "text": [
            "time: 30.1 s (started: 2023-12-05 16:22:22 +00:00)\n"
          ]
        }
      ]
    },
    {
      "cell_type": "markdown",
      "source": [
        "# Feature Selection"
      ],
      "metadata": {
        "id": "7DJOlPgjcOyX"
      }
    },
    {
      "cell_type": "code",
      "source": [
        "def pca_analysis(df, features, num_components):\n",
        "\n",
        "    if not isinstance(num_components, list) or len(num_components) != len(features):\n",
        "        raise ValueError(\"num_components must be a list of the same length as features\")\n",
        "\n",
        "    num_features = len(features)\n",
        "\n",
        "    fig, axs = plt.subplots(num_features, 1, figsize=(6, num_features * 4))\n",
        "    fig.tight_layout(pad=4.0)\n",
        "\n",
        "    for idx, f in enumerate(features):\n",
        "        feature_vector = np.stack(df[f].to_numpy())\n",
        "\n",
        "        explained_variance = []\n",
        "        max_components = min(num_components[idx], len(df))\n",
        "\n",
        "        for components in range(5, max_components + 1, 5):\n",
        "            pca = PCA(n_components=components)\n",
        "            pca.fit(feature_vector)\n",
        "            total_variance = np.sum(pca.explained_variance_ratio_)\n",
        "            explained_variance.append(total_variance)\n",
        "\n",
        "        axs[idx].plot(x=range(5, max_components + 1, 5), y=explained_variance)\n",
        "        axs[idx].set_title(f\"PCA for {f}\")\n",
        "        axs[idx].set_xlabel(\"Number of Components\")\n",
        "        axs[idx].set_ylabel(\"Explained Variance\")\n",
        "\n",
        "    plt.show()"
      ],
      "metadata": {
        "colab": {
          "base_uri": "https://localhost:8080/"
        },
        "id": "YEtjDFnacLxJ",
        "outputId": "05ca3dac-a963-4174-ba23-943027f17694"
      },
      "execution_count": 17,
      "outputs": [
        {
          "output_type": "stream",
          "name": "stdout",
          "text": [
            "time: 2.5 ms (started: 2023-12-05 15:50:04 +00:00)\n"
          ]
        }
      ]
    },
    {
      "cell_type": "code",
      "source": [
        "len(train_df)"
      ],
      "metadata": {
        "colab": {
          "base_uri": "https://localhost:8080/"
        },
        "id": "egHxpav_rs7z",
        "outputId": "b9d2a1d9-0db5-4856-93e5-6470de14bea0"
      },
      "execution_count": 19,
      "outputs": [
        {
          "output_type": "execute_result",
          "data": {
            "text/plain": [
              "499"
            ]
          },
          "metadata": {},
          "execution_count": 19
        },
        {
          "output_type": "stream",
          "name": "stdout",
          "text": [
            "time: 13.6 ms (started: 2023-12-05 15:53:08 +00:00)\n"
          ]
        }
      ]
    },
    {
      "cell_type": "code",
      "source": [
        "pca_analysis(train_df, [\"hog_feature\", \"vgg16_feature\"], [800, 8192])"
      ],
      "metadata": {
        "colab": {
          "base_uri": "https://localhost:8080/",
          "height": 780
        },
        "id": "FpQKlZlCdQVp",
        "outputId": "e96dda02-e58c-412c-a94b-6a892a34c322"
      },
      "execution_count": 18,
      "outputs": [
        {
          "output_type": "display_data",
          "data": {
            "text/plain": [
              "<Figure size 600x800 with 2 Axes>"
            ],
            "image/png": "[encoded data removed]"
          },
          "metadata": {}
        },
        {
          "output_type": "stream",
          "name": "stdout",
          "text": [
            "time: 2min 44s (started: 2023-12-05 15:50:07 +00:00)\n"
          ]
        }
      ]
    },
    {
      "cell_type": "code",
      "source": [
        "pca = PCA(n_components=100)\n",
        "pca.fit(np.stack(train_df[\"hog_feature\"].to_numpy()))\n",
        "train_df[\"pca_hog\"] = list(pca.transform(np.stack(train_df[\"hog_feature\"].to_numpy())))\n",
        "test_df[\"pca_hog\"] = list(pca.transform(np.stack(test_df[\"hog_feature\"].to_numpy())))\n",
        "\n",
        "# train_df[\"pca_hog\"] = list(pca.fit_transform(np.stack(train_df[\"hog_feature\"].to_numpy())))\n",
        "pca = PCA(n_components=150)\n",
        "pca.fit(np.stack(train_df[\"vgg16_feature\"].to_numpy()))\n",
        "train_df[\"pca_vgg16\"] = list(pca.transform(np.stack(train_df[\"vgg16_feature\"].to_numpy())))\n",
        "test_df[\"pca_vgg16\"] = list(pca.transform(np.stack(test_df[\"vgg16_feature\"].to_numpy())))"
      ],
      "metadata": {
        "colab": {
          "base_uri": "https://localhost:8080/"
        },
        "id": "xtIFkgM_sD5o",
        "outputId": "f651cf45-8e15-4c64-eb5e-8528cc49105a"
      },
      "execution_count": 64,
      "outputs": [
        {
          "output_type": "stream",
          "name": "stdout",
          "text": [
            "time: 783 ms (started: 2023-12-05 16:25:33 +00:00)\n"
          ]
        }
      ]
    },
    {
      "cell_type": "markdown",
      "source": [
        "# Modeling"
      ],
      "metadata": {
        "id": "nkti-ccHvVbz"
      }
    },
    {
      "cell_type": "code",
      "source": [
        "X_train = np.hstack((np.stack(train_df[\"pca_hog\"].to_numpy()),\n",
        "                     np.stack(train_df[\"pca_vgg16\"].to_numpy())))\n",
        "y_train = train_df[\"category\"]\n",
        "\n",
        "\n",
        "lr = LogisticRegression(multi_class='multinomial')\n",
        "lr.fit(X_train, y_train)"
      ],
      "metadata": {
        "colab": {
          "base_uri": "https://localhost:8080/",
          "height": 255
        },
        "id": "8Cj-40hEucH4",
        "outputId": "face2811-2588-4d64-a0bc-398268959af9"
      },
      "execution_count": 60,
      "outputs": [
        {
          "output_type": "stream",
          "name": "stderr",
          "text": [
            "/usr/local/lib/python3.10/dist-packages/sklearn/linear_model/_logistic.py:458: ConvergenceWarning: lbfgs failed to converge (status=1):\n",
            "STOP: TOTAL NO. of ITERATIONS REACHED LIMIT.\n",
            "\n",
            "Increase the number of iterations (max_iter) or scale the data as shown in:\n",
            "    https://scikit-learn.org/stable/modules/preprocessing.html\n",
            "Please also refer to the documentation for alternative solver options:\n",
            "    https://scikit-learn.org/stable/modules/linear_model.html#logistic-regression\n",
            "  n_iter_i = _check_optimize_result(\n"
          ]
        },
        {
          "output_type": "execute_result",
          "data": {
            "text/plain": [
              "LogisticRegression(multi_class='multinomial')"
            ],
            "text/html": [
              "<style>#sk-container-id-2 {color: black;background-color: white;}#sk-container-id-2 pre{padding: 0;}#sk-container-id-2 div.sk-toggleable {background-color: white;}#sk-container-id-2 label.sk-toggleable__label {cursor: pointer;display: block;width: 100%;margin-bottom: 0;padding: 0.3em;box-sizing: border-box;text-align: center;}#sk-container-id-2 label.sk-toggleable__label-arrow:before {content: \"▸\";float: left;margin-right: 0.25em;color: #696969;}#sk-container-id-2 label.sk-toggleable__label-arrow:hover:before {color: black;}#sk-container-id-2 div.sk-estimator:hover label.sk-toggleable__label-arrow:before {color: black;}#sk-container-id-2 div.sk-toggleable__content {max-height: 0;max-width: 0;overflow: hidden;text-align: left;background-color: #f0f8ff;}#sk-container-id-2 div.sk-toggleable__content pre {margin: 0.2em;color: black;border-radius: 0.25em;background-color: #f0f8ff;}#sk-container-id-2 input.sk-toggleable__control:checked~div.sk-toggleable__content {max-height: 200px;max-width: 100%;overflow: auto;}#sk-container-id-2 input.sk-toggleable__control:checked~label.sk-toggleable__label-arrow:before {content: \"▾\";}#sk-container-id-2 div.sk-estimator input.sk-toggleable__control:checked~label.sk-toggleable__label {background-color: #d4ebff;}#sk-container-id-2 div.sk-label input.sk-toggleable__control:checked~label.sk-toggleable__label {background-color: #d4ebff;}#sk-container-id-2 input.sk-hidden--visually {border: 0;clip: rect(1px 1px 1px 1px);clip: rect(1px, 1px, 1px, 1px);height: 1px;margin: -1px;overflow: hidden;padding: 0;position: absolute;width: 1px;}#sk-container-id-2 div.sk-estimator {font-family: monospace;background-color: #f0f8ff;border: 1px dotted black;border-radius: 0.25em;box-sizing: border-box;margin-bottom: 0.5em;}#sk-container-id-2 div.sk-estimator:hover {background-color: #d4ebff;}#sk-container-id-2 div.sk-parallel-item::after {content: \"\";width: 100%;border-bottom: 1px solid gray;flex-grow: 1;}#sk-container-id-2 div.sk-label:hover label.sk-toggleable__label {background-color: #d4ebff;}#sk-container-id-2 div.sk-serial::before {content: \"\";position: absolute;border-left: 1px solid gray;box-sizing: border-box;top: 0;bottom: 0;left: 50%;z-index: 0;}#sk-container-id-2 div.sk-serial {display: flex;flex-direction: column;align-items: center;background-color: white;padding-right: 0.2em;padding-left: 0.2em;position: relative;}#sk-container-id-2 div.sk-item {position: relative;z-index: 1;}#sk-container-id-2 div.sk-parallel {display: flex;align-items: stretch;justify-content: center;background-color: white;position: relative;}#sk-container-id-2 div.sk-item::before, #sk-container-id-2 div.sk-parallel-item::before {content: \"\";position: absolute;border-left: 1px solid gray;box-sizing: border-box;top: 0;bottom: 0;left: 50%;z-index: -1;}#sk-container-id-2 div.sk-parallel-item {display: flex;flex-direction: column;z-index: 1;position: relative;background-color: white;}#sk-container-id-2 div.sk-parallel-item:first-child::after {align-self: flex-end;width: 50%;}#sk-container-id-2 div.sk-parallel-item:last-child::after {align-self: flex-start;width: 50%;}#sk-container-id-2 div.sk-parallel-item:only-child::after {width: 0;}#sk-container-id-2 div.sk-dashed-wrapped {border: 1px dashed gray;margin: 0 0.4em 0.5em 0.4em;box-sizing: border-box;padding-bottom: 0.4em;background-color: white;}#sk-container-id-2 div.sk-label label {font-family: monospace;font-weight: bold;display: inline-block;line-height: 1.2em;}#sk-container-id-2 div.sk-label-container {text-align: center;}#sk-container-id-2 div.sk-container {/* jupyter's `normalize.less` sets `[hidden] { display: none; }` but bootstrap.min.css set `[hidden] { display: none !important; }` so we also need the `!important` here to be able to override the default hidden behavior on the sphinx rendered scikit-learn.org. See: https://github.com/scikit-learn/scikit-learn/issues/21755 */display: inline-block !important;position: relative;}#sk-container-id-2 div.sk-text-repr-fallback {display: none;}</style><div id=\"sk-container-id-2\" class=\"sk-top-container\"><div class=\"sk-text-repr-fallback\"><pre>LogisticRegression(multi_class=&#x27;multinomial&#x27;)</pre><b>In a Jupyter environment, please rerun this cell to show the HTML representation or trust the notebook. <br />On GitHub, the HTML representation is unable to render, please try loading this page with nbviewer.org.</b></div><div class=\"sk-container\" hidden><div class=\"sk-item\"><div class=\"sk-estimator sk-toggleable\"><input class=\"sk-toggleable__control sk-hidden--visually\" id=\"sk-estimator-id-2\" type=\"checkbox\" checked><label for=\"sk-estimator-id-2\" class=\"sk-toggleable__label sk-toggleable__label-arrow\">LogisticRegression</label><div class=\"sk-toggleable__content\"><pre>LogisticRegression(multi_class=&#x27;multinomial&#x27;)</pre></div></div></div></div></div>"
            ]
          },
          "metadata": {},
          "execution_count": 60
        },
        {
          "output_type": "stream",
          "name": "stdout",
          "text": [
            "time: 339 ms (started: 2023-12-05 16:20:59 +00:00)\n"
          ]
        }
      ]
    },
    {
      "cell_type": "code",
      "source": [
        "X_test = np.hstack((np.stack(test_df[\"pca_hog\"].to_numpy()),\n",
        "                     np.stack(test_df[\"pca_vgg16\"].to_numpy())))\n",
        "y_test = test_df[\"category\"]\n",
        "\n",
        "y_pred = lr.predict(X_test)\n",
        "accuracy = lr.score(X_test, y_test)\n",
        "precision = precision_score(y_test, y_pred, average='weighted')\n",
        "recall = recall_score(y_test, y_pred, average='weighted')\n",
        "print(f\"accuracy: {accuracy}\")\n",
        "print(f\"precision: {precision}\")\n",
        "print(f\"recall: {recall}\")\n",
        "\n",
        "confusion_matrix = confusion_matrix(y_test, y_pred)\n",
        "\n",
        "plt.figure(figsize=(9,9))\n",
        "sns.heatmap(confusion_matrix, annot=True, fmt=\"0\", linewidths=.5,\n",
        "            square = True, cmap = 'Blues_r');\n",
        "plt.ylabel('Actual label')\n",
        "plt.xlabel('Predicted label')\n",
        "all_sample_title = 'Confusion Matrix'\n",
        "plt.title(all_sample_title, size = 15)"
      ],
      "metadata": {
        "colab": {
          "base_uri": "https://localhost:8080/",
          "height": 827
        },
        "id": "oqUMNbgcxps2",
        "outputId": "1e295e98-702a-4eaf-8e22-3210a1ffd8ee"
      },
      "execution_count": 75,
      "outputs": [
        {
          "output_type": "stream",
          "name": "stdout",
          "text": [
            "accuracy: 0.7833333333333333\n",
            "precision: 0.8309419746919746\n",
            "recall: 0.7833333333333333\n"
          ]
        },
        {
          "output_type": "execute_result",
          "data": {
            "text/plain": [
              "Text(0.5, 1.0, 'Confusion Matrix')"
            ]
          },
          "metadata": {},
          "execution_count": 75
        },
        {
          "output_type": "display_data",
          "data": {
            "text/plain": [
              "<Figure size 900x900 with 2 Axes>"
            ],
            "image/png": "[encoded data removed]"
          },
          "metadata": {}
        },
        {
          "output_type": "stream",
          "name": "stdout",
          "text": [
            "time: 3.55 s (started: 2023-12-05 16:31:53 +00:00)\n"
          ]
        }
      ]
    }
  ],
  "metadata": {
    "accelerator": "GPU",
    "colab": {
      "provenance": [],
      "toc_visible": true,
      "gpuType": "T4",
      "authorship_tag": "ABX9TyPvATHxZgUJBWQeU5GNHZyE",
      "include_colab_link": true
    },
    "kernelspec": {
      "display_name": "Python 3",
      "name": "python3"
    },
    "language_info": {
      "name": "python"
    }
  },
  "nbformat": 4,
  "nbformat_minor": 0
}