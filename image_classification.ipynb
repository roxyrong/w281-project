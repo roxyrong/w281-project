{
  "cells": [
    {
      "cell_type": "markdown",
      "metadata": {
        "id": "view-in-github",
        "colab_type": "text"
      },
      "source": [
        "<a href=\"https://colab.research.google.com/github/roxyrong/w281-project/blob/main/image_classification.ipynb\" target=\"_parent\"><img src=\"https://colab.research.google.com/assets/colab-badge.svg\" alt=\"Open In Colab\"/></a>"
      ]
    },
    {
      "cell_type": "code",
      "execution_count": null,
      "metadata": {
        "colab": {
          "base_uri": "https://localhost:8080/"
        },
        "id": "Pmww0qJycIFk",
        "outputId": "f950270a-7d48-4bca-c2fd-eb31cd2565b2"
      },
      "outputs": [
        {
          "output_type": "stream",
          "name": "stdout",
          "text": [
            "Drive already mounted at /content/drive; to attempt to forcibly remount, call drive.mount(\"/content/drive\", force_remount=True).\n",
            "time: 3.01 s (started: 2023-12-05 16:56:27 +00:00)\n"
          ]
        }
      ],
      "source": [
        "from google.colab import drive\n",
        "drive.mount('/content/drive')"
      ]
    },
    {
      "cell_type": "code",
      "execution_count": null,
      "metadata": {
        "id": "J8ewb_JS-IB8",
        "colab": {
          "base_uri": "https://localhost:8080/"
        },
        "outputId": "c5ffbd0f-7930-4582-da5a-eee83d48ea93"
      },
      "outputs": [
        {
          "output_type": "stream",
          "name": "stdout",
          "text": [
            "time: 1.84 ms (started: 2023-12-05 17:40:22 +00:00)\n"
          ]
        }
      ],
      "source": [
        "import os\n",
        "import copy\n",
        "from glob import glob\n",
        "import numpy as np\n",
        "from numpy import fft\n",
        "import pandas as pd\n",
        "import sklearn\n",
        "from sklearn.model_selection import train_test_split\n",
        "from sklearn.decomposition import PCA\n",
        "from skimage.feature import hog, canny\n",
        "# from skimage.transform import hough_line\n",
        "import cv2\n",
        "\n",
        "from PIL import Image, ImageStat\n",
        "import matplotlib.pyplot as plt\n",
        "import seaborn as sns\n",
        "from keras.applications import VGG16\n",
        "from keras.applications.vgg16 import preprocess_input\n",
        "\n",
        "from sklearn import metrics\n",
        "from sklearn.linear_model import LogisticRegression\n",
        "from sklearn.metrics import precision_score, recall_score"
      ]
    },
    {
      "cell_type": "code",
      "source": [
        "%%capture\n",
        "!pip install ipython-autotime\n",
        "%load_ext autotime"
      ],
      "metadata": {
        "colab": {
          "base_uri": "https://localhost:8080/"
        },
        "id": "otWK_RlFkmNM",
        "outputId": "e95e16ee-0f7f-4cd1-fa83-567b4b240392"
      },
      "execution_count": null,
      "outputs": [
        {
          "output_type": "stream",
          "name": "stdout",
          "text": [
            "time: 10.3 s (started: 2023-12-05 16:56:30 +00:00)\n"
          ]
        }
      ]
    },
    {
      "cell_type": "markdown",
      "source": [
        "# Data Loading & Cleaning"
      ],
      "metadata": {
        "id": "W18nRczIcTSZ"
      }
    },
    {
      "cell_type": "code",
      "execution_count": null,
      "metadata": {
        "id": "WQrSGRfZ9FFS",
        "colab": {
          "base_uri": "https://localhost:8080/"
        },
        "outputId": "ea9f9d61-b559-4fa9-add2-142b46323121"
      },
      "outputs": [
        {
          "output_type": "stream",
          "name": "stdout",
          "text": [
            "time: 973 µs (started: 2023-12-05 16:56:41 +00:00)\n"
          ]
        }
      ],
      "source": [
        "def load_dataset(datapath):\n",
        "    df = pd.DataFrame()\n",
        "\n",
        "    for folder in os.listdir(datapath):\n",
        "      files = glob(pathname= str(datapath + folder + '/*.jpg'))\n",
        "      df = pd.concat([df, pd.DataFrame( { 'filename': files ,\n",
        "                                          'category': folder } ) ])\n",
        "\n",
        "    df = df.reset_index(drop=True)\n",
        "\n",
        "    df = df.sample(frac=0.2)\n",
        "\n",
        "    df['image'] = None\n",
        "    df['gray_image'] = None\n",
        "    df['hsv_image'] = None\n",
        "    df['resolution'] = None\n",
        "    for idx, row in df.iterrows():\n",
        "      img = Image.open(row['filename'])\n",
        "      df.at[idx, 'image'] = np.array(img, dtype=np.float32)\n",
        "      df.at[idx, 'gray_image'] = np.array(img.convert('L'))\n",
        "      df.at[idx, 'hsv_image'] = np.array(img.convert('HSV'))\n",
        "      df.at[idx, 'resolution']  = img.size\n",
        "\n",
        "    return df"
      ]
    },
    {
      "cell_type": "code",
      "execution_count": null,
      "metadata": {
        "id": "UVugYJZ61-MQ",
        "colab": {
          "base_uri": "https://localhost:8080/"
        },
        "outputId": "b958c6a1-6c6b-4e1e-eddb-973c5e611976"
      },
      "outputs": [
        {
          "output_type": "stream",
          "name": "stdout",
          "text": [
            "time: 9min 32s (started: 2023-12-05 16:56:41 +00:00)\n"
          ]
        }
      ],
      "source": [
        "train_path = 'drive/MyDrive/github/w281-project-me/dataset/seg_train/seg_train/'\n",
        "test_path = 'drive/MyDrive/github/w281-project-me/dataset/seg_test/seg_test/'\n",
        "train_df = load_dataset(train_path)\n",
        "test_df = load_dataset(test_path)\n",
        "train_df = train_df[train_df['resolution'] == (150, 150)]\n",
        "test_df = test_df[test_df['resolution'] == (150, 150)]"
      ]
    },
    {
      "cell_type": "code",
      "source": [
        "print(train_df.groupby(\"category\")[\"image\"].count())\n",
        "print(test_df.groupby(\"category\")[\"image\"].count())"
      ],
      "metadata": {
        "colab": {
          "base_uri": "https://localhost:8080/"
        },
        "id": "Dv_5gkYIw_9P",
        "outputId": "86461659-7614-4b36-d64f-91c072629413"
      },
      "execution_count": null,
      "outputs": [
        {
          "output_type": "stream",
          "name": "stdout",
          "text": [
            "category\n",
            "buildings    407\n",
            "forest       463\n",
            "glacier      487\n",
            "mountain     520\n",
            "sea          434\n",
            "street       487\n",
            "Name: image, dtype: int64\n",
            "category\n",
            "buildings     98\n",
            "forest        94\n",
            "glacier      105\n",
            "mountain     100\n",
            "sea          101\n",
            "street       100\n",
            "Name: image, dtype: int64\n",
            "time: 10.9 ms (started: 2023-12-05 17:06:13 +00:00)\n"
          ]
        }
      ]
    },
    {
      "cell_type": "markdown",
      "source": [
        "# Feature Engineering"
      ],
      "metadata": {
        "id": "sNVPk69scZOm"
      }
    },
    {
      "cell_type": "code",
      "execution_count": null,
      "metadata": {
        "colab": {
          "base_uri": "https://localhost:8080/"
        },
        "id": "iMfB3c79LG-M",
        "outputId": "815e6646-389d-4098-ad74-6eaf3ea23fe2"
      },
      "outputs": [
        {
          "output_type": "stream",
          "name": "stdout",
          "text": [
            "time: 770 µs (started: 2023-12-05 17:06:14 +00:00)\n"
          ]
        }
      ],
      "source": [
        "## HOG feature\n",
        "def add_hog_feature(row):\n",
        "  row['hog_feature'], row['hog_image'] = hog(row['image'],\n",
        "                                             orientations=8,\n",
        "                                             pixels_per_cell=(15, 15),\n",
        "                                             cells_per_block=(1, 1),\n",
        "                                             visualize=True,\n",
        "                                             channel_axis=-1)\n",
        "\n",
        "  return row"
      ]
    },
    {
      "cell_type": "code",
      "execution_count": null,
      "metadata": {
        "id": "WF3sIPSMvT6S",
        "colab": {
          "base_uri": "https://localhost:8080/"
        },
        "outputId": "de31eb57-a595-4b17-d33b-d6c8acd4f35f"
      },
      "outputs": [
        {
          "output_type": "stream",
          "name": "stdout",
          "text": [
            "time: 665 µs (started: 2023-12-05 17:06:14 +00:00)\n"
          ]
        }
      ],
      "source": [
        "## Canny Edge Detection\n",
        "def add_canny_feature(row):\n",
        "  row['canny_feature'] = canny(row[\"gray_image\"], sigma=1)\n",
        "  return row"
      ]
    },
    {
      "cell_type": "code",
      "source": [
        "def add_fourier_feature(row):\n",
        "  image = row[\"gray_image\"]\n",
        "  ydim = image.shape[0]\n",
        "  xdim = image.shape[1]\n",
        "  win = np.outer(np.hanning(ydim), np.hanning(xdim))\n",
        "  win = win/np.mean(win)\n",
        "  fourier = fft.fftshift(fft.fft2(image * win))\n",
        "  Fmag = np.abs(fourier)\n",
        "  row[\"fourier_feature\"] = np.log(Fmag)\n",
        "  return row"
      ],
      "metadata": {
        "colab": {
          "base_uri": "https://localhost:8080/"
        },
        "id": "R21I8ll6latX",
        "outputId": "c09626ab-d827-4add-80ba-0620d57ceb0e"
      },
      "execution_count": null,
      "outputs": [
        {
          "output_type": "stream",
          "name": "stdout",
          "text": [
            "time: 763 µs (started: 2023-12-05 17:06:14 +00:00)\n"
          ]
        }
      ]
    },
    {
      "cell_type": "code",
      "execution_count": null,
      "metadata": {
        "id": "o-76NalrvX--",
        "colab": {
          "base_uri": "https://localhost:8080/"
        },
        "outputId": "b55f295b-fbcd-4987-9841-89af75c1b66b"
      },
      "outputs": [
        {
          "output_type": "stream",
          "name": "stdout",
          "text": [
            "time: 226 ms (started: 2023-12-05 17:06:14 +00:00)\n"
          ]
        }
      ],
      "source": [
        "## HED Edge Detection\n",
        "## https://github.com/s9xie/hed\n",
        "\n",
        "def blob_batch_processing(original_images):\n",
        "  images = copy.deepcopy(original_images)\n",
        "  images = images.apply(lambda x: cv2.resize(x, (299, 299)))\n",
        "  images = np.array(images)\n",
        "  blob = cv2.dnn.blobFromImages(images, scalefactor=1, size=(299, 299),\n",
        "    mean=(105, 117, 123), #MODEL MEAN VALUE\n",
        "    swapRB=True, crop=False)\n",
        "  blob = list(blob)\n",
        "  blob = [b[np.newaxis, :]for b in blob]\n",
        "  return blob\n",
        "\n",
        "# The pre-trained model that OpenCV uses has been trained in Caffe framework\n",
        "proto_path = 'drive/MyDrive/github/w281-project-me/third_party/HED/deploy.prototxt'\n",
        "model_path = 'drive/MyDrive/github/w281-project-me/third_party/HED/hed_pretrained_bsds.caffemodel'\n",
        "net = cv2.dnn.readNetFromCaffe(proto_path, model_path)\n",
        "\n",
        "def add_HED_feature(row):\n",
        "  net.setInput(row['blob'])\n",
        "  hed = net.forward()\n",
        "  hed = cv2.resize(np.squeeze(hed), (150, 150))\n",
        "  hed = cv2.cvtColor(hed, cv2.COLOR_GRAY2BGR)\n",
        "  hed = (255 * hed).astype(\"uint8\")\n",
        "  row['hed'] = hed\n",
        "  return row\n"
      ]
    },
    {
      "cell_type": "code",
      "source": [
        "vgg_model = VGG16(include_top=False, input_shape=(150, 150, 3))\n",
        "\n",
        "def add_vgg_feature(row):\n",
        "  image = row['image']\n",
        "  image = np.expand_dims(image, axis=0)\n",
        "  image = preprocess_input(image)\n",
        "  row['vgg16_feature'] = vgg_model.predict(image, verbose=False).flatten()\n",
        "  return row"
      ],
      "metadata": {
        "colab": {
          "base_uri": "https://localhost:8080/"
        },
        "id": "UQg9I8N6YXgU",
        "outputId": "553c667a-c4a2-48ca-da60-6b8be2d5d96f"
      },
      "execution_count": null,
      "outputs": [
        {
          "output_type": "stream",
          "name": "stdout",
          "text": [
            "time: 537 ms (started: 2023-12-05 17:06:14 +00:00)\n"
          ]
        }
      ]
    },
    {
      "cell_type": "code",
      "execution_count": null,
      "metadata": {
        "id": "Fd3xEz8avKeB",
        "colab": {
          "base_uri": "https://localhost:8080/"
        },
        "outputId": "5029e395-96d3-473a-c13c-a4363ee7d96f"
      },
      "outputs": [
        {
          "output_type": "stream",
          "name": "stdout",
          "text": [
            "time: 19min 11s (started: 2023-12-05 17:06:14 +00:00)\n"
          ]
        }
      ],
      "source": [
        "#HOG: shape = (800, 0)\n",
        "train_df = train_df.apply(add_hog_feature, axis=1)\n",
        "#Canny: shape = (150, 150)\n",
        "# train_df = train_df.apply(add_canny_feature, axis=1)\n",
        "#HED shape = (150, 150, 3)\n",
        "# train_df['blob'] = blob_batch_processing(train_df['image'])\n",
        "# train_df = train_df.apply(add_HED_feature, axis=1)\n",
        "#VGG16 (8192, 0)\n",
        "train_df = train_df.apply(add_vgg_feature, axis=1)\n",
        "#fourier: shape = (150, 150)\n",
        "# train_df = train_df.apply(add_fourier_feature, axis=1)"
      ]
    },
    {
      "cell_type": "code",
      "source": [
        "test_df = test_df.apply(add_hog_feature, axis=1)\n",
        "#Canny: shape = (150, 150)\n",
        "# test_df = test_df.apply(add_canny_feature, axis=1)\n",
        "#HED shape = (150, 150, 3)\n",
        "# test_df['blob'] = blob_batch_processing(train_df['image'])\n",
        "# test_df = test_df.apply(add_HED_feature, axis=1)\n",
        "#VGG16 (8192, 0)\n",
        "test_df = test_df.apply(add_vgg_feature, axis=1)\n",
        "#fourier: shape = (150, 150)\n",
        "# test_df = test_df.apply(add_fourier_feature, axis=1)"
      ],
      "metadata": {
        "colab": {
          "base_uri": "https://localhost:8080/"
        },
        "id": "L6XKd4ECx1Fw",
        "outputId": "22f5d886-726c-47d2-e5ab-7aa027cc8375"
      },
      "execution_count": null,
      "outputs": [
        {
          "output_type": "stream",
          "name": "stdout",
          "text": [
            "time: 3min 59s (started: 2023-12-05 17:25:25 +00:00)\n"
          ]
        }
      ]
    },
    {
      "cell_type": "markdown",
      "source": [
        "# Feature Selection"
      ],
      "metadata": {
        "id": "7DJOlPgjcOyX"
      }
    },
    {
      "cell_type": "code",
      "source": [
        "def pca_analysis(df, features, num_components):\n",
        "\n",
        "    if not isinstance(num_components, list) or len(num_components) != len(features):\n",
        "        raise ValueError(\"num_components must be a list of the same length as features\")\n",
        "\n",
        "    num_features = len(features)\n",
        "\n",
        "    fig, axs = plt.subplots(num_features, 1, figsize=(6, num_features * 4))\n",
        "    fig.tight_layout(pad=4.0)\n",
        "\n",
        "    for idx, f in enumerate(features):\n",
        "        feature_vector = np.stack(df[f].to_numpy())\n",
        "\n",
        "        explained_variance = []\n",
        "        max_components = min(num_components[idx], len(df))\n",
        "\n",
        "        for components in range(5, max_components + 1, 5):\n",
        "            pca = PCA(n_components=components)\n",
        "            pca.fit(feature_vector)\n",
        "            total_variance = np.sum(pca.explained_variance_ratio_)\n",
        "            explained_variance.append(total_variance)\n",
        "\n",
        "        axs[idx].plot(x=range(5, max_components + 1, 5), y=explained_variance)\n",
        "        axs[idx].set_title(f\"PCA for {f}\")\n",
        "        axs[idx].set_xlabel(\"Number of Components\")\n",
        "        axs[idx].set_ylabel(\"Explained Variance\")\n",
        "\n",
        "    plt.show()"
      ],
      "metadata": {
        "colab": {
          "base_uri": "https://localhost:8080/"
        },
        "id": "YEtjDFnacLxJ",
        "outputId": "7a4c3c3c-8a4a-403b-e2b8-629dc203f91a"
      },
      "execution_count": null,
      "outputs": [
        {
          "output_type": "stream",
          "name": "stdout",
          "text": [
            "time: 5.65 ms (started: 2023-12-05 17:29:25 +00:00)\n"
          ]
        }
      ]
    },
    {
      "cell_type": "code",
      "source": [
        "# pca_analysis(train_df, [\"hog_feature\", \"vgg16_feature\"], [800, 8192])"
      ],
      "metadata": {
        "colab": {
          "base_uri": "https://localhost:8080/"
        },
        "id": "FpQKlZlCdQVp",
        "outputId": "dcd52b19-1b5a-4b6e-e019-e8d438fbf2a1"
      },
      "execution_count": null,
      "outputs": [
        {
          "output_type": "stream",
          "name": "stdout",
          "text": [
            "time: 450 µs (started: 2023-12-05 17:29:25 +00:00)\n"
          ]
        }
      ]
    },
    {
      "cell_type": "code",
      "source": [
        "pca = PCA(n_components=100)\n",
        "pca.fit(np.stack(train_df[\"hog_feature\"].to_numpy()))\n",
        "train_df[\"pca_hog\"] = list(pca.transform(np.stack(train_df[\"hog_feature\"].to_numpy())))\n",
        "test_df[\"pca_hog\"] = list(pca.transform(np.stack(test_df[\"hog_feature\"].to_numpy())))\n",
        "\n",
        "# train_df[\"pca_hog\"] = list(pca.fit_transform(np.stack(train_df[\"hog_feature\"].to_numpy())))\n",
        "pca = PCA(n_components=150)\n",
        "pca.fit(np.stack(train_df[\"vgg16_feature\"].to_numpy()))\n",
        "train_df[\"pca_vgg16\"] = list(pca.transform(np.stack(train_df[\"vgg16_feature\"].to_numpy())))\n",
        "test_df[\"pca_vgg16\"] = list(pca.transform(np.stack(test_df[\"vgg16_feature\"].to_numpy())))"
      ],
      "metadata": {
        "colab": {
          "base_uri": "https://localhost:8080/"
        },
        "id": "xtIFkgM_sD5o",
        "outputId": "152557ee-32c5-4c3e-922e-a92c09c8c720"
      },
      "execution_count": null,
      "outputs": [
        {
          "output_type": "stream",
          "name": "stdout",
          "text": [
            "time: 9.55 s (started: 2023-12-05 17:29:25 +00:00)\n"
          ]
        }
      ]
    },
    {
      "cell_type": "markdown",
      "source": [
        "# Modeling"
      ],
      "metadata": {
        "id": "nkti-ccHvVbz"
      }
    },
    {
      "cell_type": "code",
      "source": [
        "X_train = np.hstack((np.stack(train_df[\"pca_hog\"].to_numpy()),\n",
        "                     np.stack(train_df[\"pca_vgg16\"].to_numpy())))\n",
        "y_train = train_df[\"category\"]\n",
        "\n",
        "\n",
        "lr = LogisticRegression(multi_class='multinomial')\n",
        "lr.fit(X_train, y_train)"
      ],
      "metadata": {
        "colab": {
          "base_uri": "https://localhost:8080/",
          "height": 255
        },
        "id": "8Cj-40hEucH4",
        "outputId": "ff0ac6cf-050e-4f57-c144-cc6707055367"
      },
      "execution_count": null,
      "outputs": [
        {
          "output_type": "stream",
          "name": "stderr",
          "text": [
            "/usr/local/lib/python3.10/dist-packages/sklearn/linear_model/_logistic.py:458: ConvergenceWarning: lbfgs failed to converge (status=1):\n",
            "STOP: TOTAL NO. of ITERATIONS REACHED LIMIT.\n",
            "\n",
            "Increase the number of iterations (max_iter) or scale the data as shown in:\n",
            "    https://scikit-learn.org/stable/modules/preprocessing.html\n",
            "Please also refer to the documentation for alternative solver options:\n",
            "    https://scikit-learn.org/stable/modules/linear_model.html#logistic-regression\n",
            "  n_iter_i = _check_optimize_result(\n"
          ]
        },
        {
          "output_type": "execute_result",
          "data": {
            "text/plain": [
              "LogisticRegression(multi_class='multinomial')"
            ],
            "text/html": [
              "<style>#sk-container-id-4 {color: black;background-color: white;}#sk-container-id-4 pre{padding: 0;}#sk-container-id-4 div.sk-toggleable {background-color: white;}#sk-container-id-4 label.sk-toggleable__label {cursor: pointer;display: block;width: 100%;margin-bottom: 0;padding: 0.3em;box-sizing: border-box;text-align: center;}#sk-container-id-4 label.sk-toggleable__label-arrow:before {content: \"▸\";float: left;margin-right: 0.25em;color: #696969;}#sk-container-id-4 label.sk-toggleable__label-arrow:hover:before {color: black;}#sk-container-id-4 div.sk-estimator:hover label.sk-toggleable__label-arrow:before {color: black;}#sk-container-id-4 div.sk-toggleable__content {max-height: 0;max-width: 0;overflow: hidden;text-align: left;background-color: #f0f8ff;}#sk-container-id-4 div.sk-toggleable__content pre {margin: 0.2em;color: black;border-radius: 0.25em;background-color: #f0f8ff;}#sk-container-id-4 input.sk-toggleable__control:checked~div.sk-toggleable__content {max-height: 200px;max-width: 100%;overflow: auto;}#sk-container-id-4 input.sk-toggleable__control:checked~label.sk-toggleable__label-arrow:before {content: \"▾\";}#sk-container-id-4 div.sk-estimator input.sk-toggleable__control:checked~label.sk-toggleable__label {background-color: #d4ebff;}#sk-container-id-4 div.sk-label input.sk-toggleable__control:checked~label.sk-toggleable__label {background-color: #d4ebff;}#sk-container-id-4 input.sk-hidden--visually {border: 0;clip: rect(1px 1px 1px 1px);clip: rect(1px, 1px, 1px, 1px);height: 1px;margin: -1px;overflow: hidden;padding: 0;position: absolute;width: 1px;}#sk-container-id-4 div.sk-estimator {font-family: monospace;background-color: #f0f8ff;border: 1px dotted black;border-radius: 0.25em;box-sizing: border-box;margin-bottom: 0.5em;}#sk-container-id-4 div.sk-estimator:hover {background-color: #d4ebff;}#sk-container-id-4 div.sk-parallel-item::after {content: \"\";width: 100%;border-bottom: 1px solid gray;flex-grow: 1;}#sk-container-id-4 div.sk-label:hover label.sk-toggleable__label {background-color: #d4ebff;}#sk-container-id-4 div.sk-serial::before {content: \"\";position: absolute;border-left: 1px solid gray;box-sizing: border-box;top: 0;bottom: 0;left: 50%;z-index: 0;}#sk-container-id-4 div.sk-serial {display: flex;flex-direction: column;align-items: center;background-color: white;padding-right: 0.2em;padding-left: 0.2em;position: relative;}#sk-container-id-4 div.sk-item {position: relative;z-index: 1;}#sk-container-id-4 div.sk-parallel {display: flex;align-items: stretch;justify-content: center;background-color: white;position: relative;}#sk-container-id-4 div.sk-item::before, #sk-container-id-4 div.sk-parallel-item::before {content: \"\";position: absolute;border-left: 1px solid gray;box-sizing: border-box;top: 0;bottom: 0;left: 50%;z-index: -1;}#sk-container-id-4 div.sk-parallel-item {display: flex;flex-direction: column;z-index: 1;position: relative;background-color: white;}#sk-container-id-4 div.sk-parallel-item:first-child::after {align-self: flex-end;width: 50%;}#sk-container-id-4 div.sk-parallel-item:last-child::after {align-self: flex-start;width: 50%;}#sk-container-id-4 div.sk-parallel-item:only-child::after {width: 0;}#sk-container-id-4 div.sk-dashed-wrapped {border: 1px dashed gray;margin: 0 0.4em 0.5em 0.4em;box-sizing: border-box;padding-bottom: 0.4em;background-color: white;}#sk-container-id-4 div.sk-label label {font-family: monospace;font-weight: bold;display: inline-block;line-height: 1.2em;}#sk-container-id-4 div.sk-label-container {text-align: center;}#sk-container-id-4 div.sk-container {/* jupyter's `normalize.less` sets `[hidden] { display: none; }` but bootstrap.min.css set `[hidden] { display: none !important; }` so we also need the `!important` here to be able to override the default hidden behavior on the sphinx rendered scikit-learn.org. See: https://github.com/scikit-learn/scikit-learn/issues/21755 */display: inline-block !important;position: relative;}#sk-container-id-4 div.sk-text-repr-fallback {display: none;}</style><div id=\"sk-container-id-4\" class=\"sk-top-container\"><div class=\"sk-text-repr-fallback\"><pre>LogisticRegression(multi_class=&#x27;multinomial&#x27;)</pre><b>In a Jupyter environment, please rerun this cell to show the HTML representation or trust the notebook. <br />On GitHub, the HTML representation is unable to render, please try loading this page with nbviewer.org.</b></div><div class=\"sk-container\" hidden><div class=\"sk-item\"><div class=\"sk-estimator sk-toggleable\"><input class=\"sk-toggleable__control sk-hidden--visually\" id=\"sk-estimator-id-4\" type=\"checkbox\" checked><label for=\"sk-estimator-id-4\" class=\"sk-toggleable__label sk-toggleable__label-arrow\">LogisticRegression</label><div class=\"sk-toggleable__content\"><pre>LogisticRegression(multi_class=&#x27;multinomial&#x27;)</pre></div></div></div></div></div>"
            ]
          },
          "metadata": {},
          "execution_count": 104
        },
        {
          "output_type": "stream",
          "name": "stdout",
          "text": [
            "time: 1.63 s (started: 2023-12-05 17:29:35 +00:00)\n"
          ]
        }
      ]
    },
    {
      "cell_type": "code",
      "source": [
        "lr.classes_"
      ],
      "metadata": {
        "colab": {
          "base_uri": "https://localhost:8080/"
        },
        "id": "G9U8_r7vCoa5",
        "outputId": "c0c0d6f9-5bf8-4fde-e446-9c2b7c0f9654"
      },
      "execution_count": null,
      "outputs": [
        {
          "output_type": "execute_result",
          "data": {
            "text/plain": [
              "array(['buildings', 'forest', 'glacier', 'mountain', 'sea', 'street'],\n",
              "      dtype=object)"
            ]
          },
          "metadata": {},
          "execution_count": 107
        },
        {
          "output_type": "stream",
          "name": "stdout",
          "text": [
            "time: 4.22 ms (started: 2023-12-05 17:33:21 +00:00)\n"
          ]
        }
      ]
    },
    {
      "cell_type": "code",
      "source": [
        "X_test = np.hstack((np.stack(test_df[\"pca_hog\"].to_numpy()),\n",
        "                     np.stack(test_df[\"pca_vgg16\"].to_numpy())))\n",
        "y_test = test_df[\"category\"]\n",
        "\n",
        "y_pred = lr.predict(X_test)\n",
        "accuracy = lr.score(X_test, y_test)\n",
        "precision = precision_score(y_test, y_pred, average='weighted')\n",
        "recall = recall_score(y_test, y_pred, average='weighted')\n",
        "print(f\"accuracy: {accuracy}\")\n",
        "print(f\"precision: {precision}\")\n",
        "print(f\"recall: {recall}\")\n",
        "\n",
        "confusion_matrix = metrics.confusion_matrix(y_test, y_pred)\n",
        "\n",
        "plt.figure(figsize=(9,9))\n",
        "sns.heatmap(confusion_matrix, annot=True, fmt=\"0\", linewidths=.5,\n",
        "            square = True, cmap = 'Blues_r');\n",
        "plt.ylabel('Actual label')\n",
        "plt.xlabel('Predicted label')\n",
        "all_sample_title = 'Confusion Matrix'\n",
        "plt.title(all_sample_title, size = 15)"
      ],
      "metadata": {
        "colab": {
          "base_uri": "https://localhost:8080/",
          "height": 827
        },
        "id": "oqUMNbgcxps2",
        "outputId": "0e0d4c7d-1cc9-4513-eb00-e8f4548065a0"
      },
      "execution_count": null,
      "outputs": [
        {
          "output_type": "stream",
          "name": "stdout",
          "text": [
            "accuracy: 0.8762541806020067\n",
            "precision: 0.8765874074535671\n",
            "recall: 0.8762541806020067\n"
          ]
        },
        {
          "output_type": "execute_result",
          "data": {
            "text/plain": [
              "Text(0.5, 1.0, 'Confusion Matrix')"
            ]
          },
          "metadata": {},
          "execution_count": 119
        },
        {
          "output_type": "display_data",
          "data": {
            "text/plain": [
              "<Figure size 900x900 with 2 Axes>"
            ],
            "image/png": "[encoded data removed]"
          },
          "metadata": {}
        },
        {
          "output_type": "stream",
          "name": "stdout",
          "text": [
            "time: 1.7 s (started: 2023-12-05 17:44:22 +00:00)\n"
          ]
        }
      ]
    }
  ],
  "metadata": {
    "accelerator": "GPU",
    "colab": {
      "provenance": [],
      "toc_visible": true,
      "gpuType": "T4",
      "authorship_tag": "ABX9TyPHkVw3WNcQFGE0vH+nl3Du",
      "include_colab_link": true
    },
    "kernelspec": {
      "display_name": "Python 3",
      "name": "python3"
    },
    "language_info": {
      "name": "python"
    }
  },
  "nbformat": 4,
  "nbformat_minor": 0
}